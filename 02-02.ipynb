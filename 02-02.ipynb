{
 "cells": [
  {
   "cell_type": "code",
   "execution_count": 1,
   "metadata": {},
   "outputs": [],
   "source": [
    "from dts.array import *"
   ]
  },
  {
   "cell_type": "markdown",
   "metadata": {},
   "source": [
    "## 2.2.1\n",
    "\n",
    "Que done $\\frac{n^3}{1000} - 100 \\times n^2 + 3$  en notation grand O ?\n",
    "\n",
    "$O(n^3)$\n",
    "\n",
    "En effet, le facteur qui a le plus d'importance quand $n \\longrightarrow \\infty$ est $n^3$"
   ]
  },
  {
   "cell_type": "markdown",
   "metadata": {},
   "source": [
    "### 2.2.2 Tri par selection"
   ]
  },
  {
   "cell_type": "code",
   "execution_count": 2,
   "metadata": {},
   "outputs": [],
   "source": [
    "def selection_sort(A):\n",
    "    for i in range(0,A.length() - 1):\n",
    "        min = i\n",
    "        for j in range(i + 1,A.length()):\n",
    "            if A[min] > A[j]:\n",
    "                min = j\n",
    "        tmp = A[min]\n",
    "        A[min] = A[i]\n",
    "        A[i] = tmp\n",
    "    return A"
   ]
  },
  {
   "cell_type": "markdown",
   "metadata": {},
   "source": [
    "* Invariance de la boucle: De 0 à i, le tableau est trié.\n",
    "* Quand il reste seulement deux élément (c'est a dire i == A.length() -1), l'élément le plus petit sera placé avant le second, donc la dernière partie du tableau est forcément triée\n",
    "* Complexité\n",
    "    * Meilleur cas: tableau déjà trié: $O(n^2)$\n",
    "    * Pire cas: tableau trié en sens inverse: $O(n^2)$\n",
    "    * Les deux ont la même valeur. En effet, dans tous les cas, nous devons trouver la plus petite valeur et nous ne savons par si le tableau est trié ou non"
   ]
  }
 ],
 "metadata": {
  "kernelspec": {
   "display_name": "Python 3",
   "language": "python",
   "name": "python3"
  },
  "language_info": {
   "codemirror_mode": {
    "name": "ipython",
    "version": 3
   },
   "file_extension": ".py",
   "mimetype": "text/x-python",
   "name": "python",
   "nbconvert_exporter": "python",
   "pygments_lexer": "ipython3",
   "version": "3.6.6"
  }
 },
 "nbformat": 4,
 "nbformat_minor": 2
}
