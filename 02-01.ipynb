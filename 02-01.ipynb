{
 "cells": [
  {
   "cell_type": "markdown",
   "metadata": {},
   "source": [
    "## On utilise les tableaux"
   ]
  },
  {
   "cell_type": "code",
   "execution_count": 6,
   "metadata": {},
   "outputs": [],
   "source": [
    "from dts.array import *"
   ]
  },
  {
   "cell_type": "markdown",
   "metadata": {},
   "source": [
    "## Tri par insertion"
   ]
  },
  {
   "cell_type": "code",
   "execution_count": 7,
   "metadata": {},
   "outputs": [],
   "source": [
    "def insertion_sort(A,verbose=False):\n",
    "    for j in range(1,A.length()):\n",
    "        if(verbose):\n",
    "            print(str(j)+\": \",end='')\n",
    "            A.print()\n",
    "        key = A[j]\n",
    "        i = j - 1\n",
    "        while(i>=0 and A[i] > key):\n",
    "            A[i+1] = A[i]\n",
    "            i = i - 1\n",
    "        A[i+1] = key\n",
    "    return A"
   ]
  },
  {
   "cell_type": "markdown",
   "metadata": {},
   "source": [
    "## EXO 2.1.1 Résultat du tri de 31 41 59 26 41 58 étapes par étapes\n",
    "\n",
    "1: 31 41 59 26 41 58  \n",
    "2: 31 41 59 26 51 58  \n",
    "3: 31 45 59 26 41 58  \n",
    "4: 26 31 41 59 41 58  \n",
    "5: 26 31 41 41 59 58  \n",
    "6: 26 31 41 41 58 59\n"
   ]
  },
  {
   "cell_type": "markdown",
   "metadata": {},
   "source": [
    "## EXO 2.1.2: insertion sort inversé"
   ]
  },
  {
   "cell_type": "code",
   "execution_count": 10,
   "metadata": {},
   "outputs": [],
   "source": [
    "def insertion_sort_revert(A,verbose=False):\n",
    "    for j in reversed(range(0,A.length()-2)):\n",
    "        if(verbose):\n",
    "            print(str(j)+\": \",end='')\n",
    "            A.print()\n",
    "        key = A[j]\n",
    "        i = j + 1\n",
    "        while(i < A.length() and A[i] < key):\n",
    "            A[i-1] = A[i]\n",
    "            i = i + 1\n",
    "        A[i-1] = key\n",
    "    return A"
   ]
  },
  {
   "cell_type": "markdown",
   "metadata": {},
   "source": [
    "## EXO 2.1.3: recherche séquentielle un tableau"
   ]
  },
  {
   "cell_type": "code",
   "execution_count": 12,
   "metadata": {},
   "outputs": [],
   "source": [
    "def search_in_array(A,v):\n",
    "    for i in range(0,A.length()-1):\n",
    "        if(v == A[i]):\n",
    "            return i\n",
    "    return None"
   ]
  },
  {
   "cell_type": "markdown",
   "metadata": {},
   "source": [
    "* __Initialisation__: Si la taille est à 0, l'algorithme ne rentre pas dans la boucle. On retourne \"None\"\n",
    "* __Maintenance__: Si un élément est trouvé, l'algorithme quitte et retourne l'index. Tous les éléments précédents ne sont pas égaux à v. Tous les suivants ne sont pas testés\n",
    "* __Terminaison__: La boucle se termine quand i == A.lenght(). Dans ce cas, tous le tableau a été parcourus. Rien a été trouvé. L'algorithme retourne \"None\""
   ]
  },
  {
   "cell_type": "markdown",
   "metadata": {},
   "source": [
    "## EXO 2.1.4: Somme de deux nombres binaires\n",
    "\n",
    "Ici, nous voulons sommer deux chiffres binaires. Ils doivent avoir une taille identique et le résultat à une taille augmentée de 1 (pour la dernière retenue)"
   ]
  },
  {
   "cell_type": "code",
   "execution_count": 13,
   "metadata": {},
   "outputs": [],
   "source": [
    "def add_binary(A,B):\n",
    "    if(A.length() != B.length()):\n",
    "        print(\"A and B must have the same size\")\n",
    "        return None\n",
    "    else:\n",
    "        C = Array(A.length() + 1)\n",
    "        carry = 0\n",
    "        for i in reversed(range(0,A.length())):\n",
    "            if((A[i] != 0 and A[i] != 1) or (B[i] != 0 and B[i] != 1)):\n",
    "                print(\"Numbers must be binary representation\")\n",
    "                return None\n",
    "            tmp = A[i] + B[i] + carry\n",
    "            if(tmp == 0):\n",
    "                C[i+1] = 0\n",
    "                carry = 0\n",
    "            elif(tmp == 1):\n",
    "                C[i+1] = 1\n",
    "                carry = 0\n",
    "            elif(tmp == 2):\n",
    "                C[i+1] = 0\n",
    "                carry = 1\n",
    "            elif(tmp == 3):\n",
    "                C[i+1] = 1\n",
    "                carry = 1\n",
    "        C[0] = carry\n",
    "    return C"
   ]
  },
  {
   "cell_type": "markdown",
   "metadata": {},
   "source": [
    "## Les tests"
   ]
  },
  {
   "cell_type": "markdown",
   "metadata": {},
   "source": [
    "### Insertion"
   ]
  },
  {
   "cell_type": "code",
   "execution_count": 22,
   "metadata": {},
   "outputs": [
    {
     "name": "stdout",
     "output_type": "stream",
     "text": [
      "1: 31 41 59 26 41 58 \n",
      "2: 31 41 59 26 41 58 \n",
      "3: 31 41 59 26 41 58 \n",
      "4: 26 31 41 59 41 58 \n",
      "5: 26 31 41 41 59 58 \n",
      "Résultat:\n",
      "26 31 41 41 58 59 \n"
     ]
    }
   ],
   "source": [
    "A = Array(arr=[31,41,59,26,41,58])\n",
    "B = insertion_sort(A.copy(),verbose=True)\n",
    "print(\"Résultat:\")\n",
    "B.print()"
   ]
  },
  {
   "cell_type": "markdown",
   "metadata": {},
   "source": [
    "### Insertion inversée"
   ]
  },
  {
   "cell_type": "code",
   "execution_count": 23,
   "metadata": {},
   "outputs": [
    {
     "name": "stdout",
     "output_type": "stream",
     "text": [
      "3: 31 41 59 26 41 58 \n",
      "2: 31 41 59 26 41 58 \n",
      "1: 31 41 26 41 58 59 \n",
      "0: 31 26 41 41 58 59 \n",
      "Résultat:\n",
      "26 31 41 41 58 59 \n"
     ]
    }
   ],
   "source": [
    "A = Array(arr=[31,41,59,26,41,58])\n",
    "B = insertion_sort_revert(A.copy(),verbose=True)\n",
    "print(\"Résultat:\")\n",
    "B.print()"
   ]
  },
  {
   "cell_type": "markdown",
   "metadata": {},
   "source": [
    "### Recherche séquentielle"
   ]
  },
  {
   "cell_type": "code",
   "execution_count": 25,
   "metadata": {},
   "outputs": [
    {
     "name": "stdout",
     "output_type": "stream",
     "text": [
      "1 5 8 9 5 4 2 3 1 7 \n",
      "3\n",
      "None\n"
     ]
    }
   ],
   "source": [
    "C = Array(arr=[1,5,8,9,5,4,2,3,1,7])\n",
    "C.print()\n",
    "print(search_in_array(C,9))\n",
    "print(search_in_array(C,6))"
   ]
  },
  {
   "cell_type": "markdown",
   "metadata": {},
   "source": [
    "### Somme de deux nombres binaires"
   ]
  },
  {
   "cell_type": "code",
   "execution_count": 31,
   "metadata": {},
   "outputs": [
    {
     "name": "stdout",
     "output_type": "stream",
     "text": [
      "  1 1 1 0 1 0 1 0 \n",
      "+ 1 0 0 0 0 1 1 1 \n",
      "------------------\n",
      "1 0 1 1 1 0 0 0 1 \n"
     ]
    }
   ],
   "source": [
    "A = Array(arr=[1,1,1,0,1,0,1,0])\n",
    "B = Array(arr=[1,0,0,0,0,1,1,1])\n",
    "print(\"  \",end='')\n",
    "A.print()\n",
    "print(\"+ \",end='')\n",
    "B.print()\n",
    "print(\"------------------\")\n",
    "C=add_binary(A,B)\n",
    "C.print()"
   ]
  }
 ],
 "metadata": {
  "kernelspec": {
   "display_name": "Python 3",
   "language": "python",
   "name": "python3"
  },
  "language_info": {
   "codemirror_mode": {
    "name": "ipython",
    "version": 3
   },
   "file_extension": ".py",
   "mimetype": "text/x-python",
   "name": "python",
   "nbconvert_exporter": "python",
   "pygments_lexer": "ipython3",
   "version": "3.6.6"
  }
 },
 "nbformat": 4,
 "nbformat_minor": 2
}
